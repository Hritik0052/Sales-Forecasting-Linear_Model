{
 "cells": [
  {
   "cell_type": "code",
   "execution_count": 108,
   "id": "3170be1e-e1a9-4ecd-8217-8a591310706f",
   "metadata": {},
   "outputs": [],
   "source": [
    "import pandas as pd \n",
    "import numpy as np\n",
    "import seaborn as sns\n",
    "import matplotlib.pyplot as plt\n",
    "from sklearn.linear_model import LinearRegression\n",
    "from sklearn.model_selection import train_test_split\n",
    "from sklearn.metrics import r2_score, mean_squared_error"
   ]
  },
  {
   "cell_type": "markdown",
   "id": "e2eb6328-6d31-4132-95bb-fc0227be0aee",
   "metadata": {},
   "source": [
    "### Importing the Data "
   ]
  },
  {
   "cell_type": "code",
   "execution_count": 109,
   "id": "54a1fdfb-dc30-4b05-9884-630900202f14",
   "metadata": {},
   "outputs": [],
   "source": [
    "url =  \"https://raw.githubusercontent.com/selva86/datasets/master/Advertising.csv\"\n",
    "df = pd.read_csv(url);"
   ]
  },
  {
   "cell_type": "markdown",
   "id": "aae2f4ca-9a21-459e-a2d7-40317e29111c",
   "metadata": {},
   "source": [
    "### Data Preprocessing"
   ]
  },
  {
   "cell_type": "code",
   "execution_count": 110,
   "id": "3ccfd449-4738-4cd7-a570-ee46ccf953b2",
   "metadata": {
    "scrolled": true
   },
   "outputs": [
    {
     "data": {
      "text/html": [
       "<div>\n",
       "<style scoped>\n",
       "    .dataframe tbody tr th:only-of-type {\n",
       "        vertical-align: middle;\n",
       "    }\n",
       "\n",
       "    .dataframe tbody tr th {\n",
       "        vertical-align: top;\n",
       "    }\n",
       "\n",
       "    .dataframe thead th {\n",
       "        text-align: right;\n",
       "    }\n",
       "</style>\n",
       "<table border=\"1\" class=\"dataframe\">\n",
       "  <thead>\n",
       "    <tr style=\"text-align: right;\">\n",
       "      <th></th>\n",
       "      <th>TV</th>\n",
       "      <th>radio</th>\n",
       "      <th>newspaper</th>\n",
       "      <th>sales</th>\n",
       "    </tr>\n",
       "  </thead>\n",
       "  <tbody>\n",
       "    <tr>\n",
       "      <th>71</th>\n",
       "      <td>109.8</td>\n",
       "      <td>14.3</td>\n",
       "      <td>31.7</td>\n",
       "      <td>12.4</td>\n",
       "    </tr>\n",
       "    <tr>\n",
       "      <th>161</th>\n",
       "      <td>85.7</td>\n",
       "      <td>35.8</td>\n",
       "      <td>49.3</td>\n",
       "      <td>13.3</td>\n",
       "    </tr>\n",
       "    <tr>\n",
       "      <th>165</th>\n",
       "      <td>234.5</td>\n",
       "      <td>3.4</td>\n",
       "      <td>84.8</td>\n",
       "      <td>11.9</td>\n",
       "    </tr>\n",
       "    <tr>\n",
       "      <th>151</th>\n",
       "      <td>121.0</td>\n",
       "      <td>8.4</td>\n",
       "      <td>48.7</td>\n",
       "      <td>11.6</td>\n",
       "    </tr>\n",
       "    <tr>\n",
       "      <th>109</th>\n",
       "      <td>255.4</td>\n",
       "      <td>26.9</td>\n",
       "      <td>5.5</td>\n",
       "      <td>19.8</td>\n",
       "    </tr>\n",
       "    <tr>\n",
       "      <th>18</th>\n",
       "      <td>69.2</td>\n",
       "      <td>20.5</td>\n",
       "      <td>18.3</td>\n",
       "      <td>11.3</td>\n",
       "    </tr>\n",
       "    <tr>\n",
       "      <th>36</th>\n",
       "      <td>266.9</td>\n",
       "      <td>43.8</td>\n",
       "      <td>5.0</td>\n",
       "      <td>25.4</td>\n",
       "    </tr>\n",
       "  </tbody>\n",
       "</table>\n",
       "</div>"
      ],
      "text/plain": [
       "        TV  radio  newspaper  sales\n",
       "71   109.8   14.3       31.7   12.4\n",
       "161   85.7   35.8       49.3   13.3\n",
       "165  234.5    3.4       84.8   11.9\n",
       "151  121.0    8.4       48.7   11.6\n",
       "109  255.4   26.9        5.5   19.8\n",
       "18    69.2   20.5       18.3   11.3\n",
       "36   266.9   43.8        5.0   25.4"
      ]
     },
     "execution_count": 110,
     "metadata": {},
     "output_type": "execute_result"
    }
   ],
   "source": [
    "df.drop(columns=['Unnamed: 0']).sample(7)"
   ]
  },
  {
   "cell_type": "code",
   "execution_count": 111,
   "id": "60958aaf-5a17-4e2a-aed9-d9c06750e913",
   "metadata": {},
   "outputs": [
    {
     "name": "stdout",
     "output_type": "stream",
     "text": [
      "Unnamed: 0    0\n",
      "TV            0\n",
      "radio         0\n",
      "newspaper     0\n",
      "sales         0\n",
      "dtype: int64\n",
      "Unnamed: 0    0.0\n",
      "TV            0.0\n",
      "radio         0.0\n",
      "newspaper     0.0\n",
      "sales         0.0\n",
      "dtype: float64\n"
     ]
    }
   ],
   "source": [
    "#Check the null values \n",
    "print(df.isnull().sum())\n",
    "#Checking for duplicated values \n",
    "print(df[df.duplicated()].sum())"
   ]
  },
  {
   "cell_type": "code",
   "execution_count": 112,
   "id": "3145c1a4-4fec-4ccd-b0e2-561edc2b20dc",
   "metadata": {},
   "outputs": [
    {
     "data": {
      "text/html": [
       "<div>\n",
       "<style scoped>\n",
       "    .dataframe tbody tr th:only-of-type {\n",
       "        vertical-align: middle;\n",
       "    }\n",
       "\n",
       "    .dataframe tbody tr th {\n",
       "        vertical-align: top;\n",
       "    }\n",
       "\n",
       "    .dataframe thead th {\n",
       "        text-align: right;\n",
       "    }\n",
       "</style>\n",
       "<table border=\"1\" class=\"dataframe\">\n",
       "  <thead>\n",
       "    <tr style=\"text-align: right;\">\n",
       "      <th></th>\n",
       "      <th>Unnamed: 0</th>\n",
       "      <th>TV</th>\n",
       "      <th>radio</th>\n",
       "      <th>newspaper</th>\n",
       "      <th>sales</th>\n",
       "    </tr>\n",
       "  </thead>\n",
       "  <tbody>\n",
       "    <tr>\n",
       "      <th>count</th>\n",
       "      <td>200.000000</td>\n",
       "      <td>200.000000</td>\n",
       "      <td>200.000000</td>\n",
       "      <td>200.000000</td>\n",
       "      <td>200.000000</td>\n",
       "    </tr>\n",
       "    <tr>\n",
       "      <th>mean</th>\n",
       "      <td>100.500000</td>\n",
       "      <td>147.042500</td>\n",
       "      <td>23.264000</td>\n",
       "      <td>30.554000</td>\n",
       "      <td>14.022500</td>\n",
       "    </tr>\n",
       "    <tr>\n",
       "      <th>std</th>\n",
       "      <td>57.879185</td>\n",
       "      <td>85.854236</td>\n",
       "      <td>14.846809</td>\n",
       "      <td>21.778621</td>\n",
       "      <td>5.217457</td>\n",
       "    </tr>\n",
       "    <tr>\n",
       "      <th>min</th>\n",
       "      <td>1.000000</td>\n",
       "      <td>0.700000</td>\n",
       "      <td>0.000000</td>\n",
       "      <td>0.300000</td>\n",
       "      <td>1.600000</td>\n",
       "    </tr>\n",
       "    <tr>\n",
       "      <th>25%</th>\n",
       "      <td>50.750000</td>\n",
       "      <td>74.375000</td>\n",
       "      <td>9.975000</td>\n",
       "      <td>12.750000</td>\n",
       "      <td>10.375000</td>\n",
       "    </tr>\n",
       "    <tr>\n",
       "      <th>50%</th>\n",
       "      <td>100.500000</td>\n",
       "      <td>149.750000</td>\n",
       "      <td>22.900000</td>\n",
       "      <td>25.750000</td>\n",
       "      <td>12.900000</td>\n",
       "    </tr>\n",
       "    <tr>\n",
       "      <th>75%</th>\n",
       "      <td>150.250000</td>\n",
       "      <td>218.825000</td>\n",
       "      <td>36.525000</td>\n",
       "      <td>45.100000</td>\n",
       "      <td>17.400000</td>\n",
       "    </tr>\n",
       "    <tr>\n",
       "      <th>max</th>\n",
       "      <td>200.000000</td>\n",
       "      <td>296.400000</td>\n",
       "      <td>49.600000</td>\n",
       "      <td>114.000000</td>\n",
       "      <td>27.000000</td>\n",
       "    </tr>\n",
       "  </tbody>\n",
       "</table>\n",
       "</div>"
      ],
      "text/plain": [
       "       Unnamed: 0          TV       radio   newspaper       sales\n",
       "count  200.000000  200.000000  200.000000  200.000000  200.000000\n",
       "mean   100.500000  147.042500   23.264000   30.554000   14.022500\n",
       "std     57.879185   85.854236   14.846809   21.778621    5.217457\n",
       "min      1.000000    0.700000    0.000000    0.300000    1.600000\n",
       "25%     50.750000   74.375000    9.975000   12.750000   10.375000\n",
       "50%    100.500000  149.750000   22.900000   25.750000   12.900000\n",
       "75%    150.250000  218.825000   36.525000   45.100000   17.400000\n",
       "max    200.000000  296.400000   49.600000  114.000000   27.000000"
      ]
     },
     "execution_count": 112,
     "metadata": {},
     "output_type": "execute_result"
    }
   ],
   "source": [
    "df.describe()"
   ]
  },
  {
   "cell_type": "code",
   "execution_count": 184,
   "id": "8b2c95a0-b41f-454c-9b6f-32d141a0a783",
   "metadata": {},
   "outputs": [
    {
     "data": {
      "image/png": "[encoded data removed]",
      "text/plain": [
       "<Figure size 640x480 with 2 Axes>"
      ]
     },
     "metadata": {},
     "output_type": "display_data"
    }
   ],
   "source": [
    "# Show the correlations betweenm data \n",
    "sns.heatmap(df.corr(),annot=True,cmap='coolwarm')\n",
    "plt.savefig('Corr.png')\n",
    "plt.show()"
   ]
  },
  {
   "cell_type": "code",
   "execution_count": 114,
   "id": "1e924d43-bec1-491c-84bc-caf92ece447b",
   "metadata": {},
   "outputs": [],
   "source": [
    "# Preparing data for Training \n",
    "X = df[['TV','radio','newspaper']]\n",
    "Y = df[['sales']]"
   ]
  },
  {
   "cell_type": "markdown",
   "id": "f5d92224-3205-472d-8b09-43d06d859148",
   "metadata": {},
   "source": [
    "### Splitting the Data"
   ]
  },
  {
   "cell_type": "code",
   "execution_count": 115,
   "id": "e7a66bd9-bd2e-4216-8d6c-56f48d3731da",
   "metadata": {},
   "outputs": [],
   "source": [
    "x_train,x_test,y_train,y_test = train_test_split(X,Y,test_size=0.1)"
   ]
  },
  {
   "cell_type": "markdown",
   "id": "2bd5d2e7-ac18-42e2-b1aa-c458bc58bc1d",
   "metadata": {},
   "source": [
    "### Train the model"
   ]
  },
  {
   "cell_type": "code",
   "execution_count": 123,
   "id": "6b484981-6cac-4434-a0d9-d52d0addd615",
   "metadata": {},
   "outputs": [
    {
     "name": "stdout",
     "output_type": "stream",
     "text": [
      "Coefficient is :  [[4.58675073e-02 1.86727198e-01 1.68283553e-04]]\n",
      "Intercept is :  [2.89105133]\n"
     ]
    }
   ],
   "source": [
    "# Initialize the model \n",
    "model = LinearRegression()\n",
    "\n",
    "# Train the model\n",
    "model.fit(x_train,y_train)\n",
    "\n",
    "# Printing the coeffcient and interept\n",
    "print(\"Coefficient is : \",model.coef_)\n",
    "print(\"Intercept is : \",model.intercept_)"
   ]
  },
  {
   "cell_type": "markdown",
   "id": "9856c0cb-5df1-4fac-b735-1d79db47a70b",
   "metadata": {},
   "source": [
    "### Evaluate the model"
   ]
  },
  {
   "cell_type": "code",
   "execution_count": 124,
   "id": "e449c384-72a3-405d-9bda-084dc62bd812",
   "metadata": {},
   "outputs": [
    {
     "name": "stdout",
     "output_type": "stream",
     "text": [
      "Mean Squared Error is  2.4\n",
      "R2 Score is  0.906\n"
     ]
    }
   ],
   "source": [
    "# Predictions\n",
    "y_pred = model.predict(x_test)\n",
    "\n",
    "# metrics\n",
    "mse = mean_squared_error(y_test,y_pred)\n",
    "r2s = r2_score(y_test,y_pred)\n",
    "\n",
    "# Printing the metrics\n",
    "print(\"Mean Squared Error is \",np.round(mse,3))\n",
    "print(\"R2 Score is \",np.round(r2s,3))"
   ]
  },
  {
   "cell_type": "markdown",
   "id": "c0b1dbf6-bcea-4c9f-8bff-c5bd8295f8aa",
   "metadata": {},
   "source": [
    "### Visulaize the Predictions"
   ]
  },
  {
   "cell_type": "code",
   "execution_count": 183,
   "id": "ea7e2c96-6ef3-40a8-8f90-2f8fbda228c1",
   "metadata": {},
   "outputs": [
    {
     "data": {
      "image/png": "[encoded data removed]",
      "text/plain": [
       "<Figure size 1200x400 with 3 Axes>"
      ]
     },
     "metadata": {},
     "output_type": "display_data"
    }
   ],
   "source": [
    "# Set size of figures\n",
    "plt.figure(figsize=(12,4))\n",
    "\n",
    "\n",
    "# Plotting TV Actual Sales VS Predicted Sales\n",
    "plt.subplot(1,3,1)\n",
    "plt.scatter(x_test['TV'],y_test,label='Actual')\n",
    "plt.scatter(x_test['TV'],y_pred,color='red',label='Predicted')\n",
    "plt.xlabel('TV')\n",
    "plt.ylabel('Sales')\n",
    "plt.legend()\n",
    "\n",
    "\n",
    "# Plotting Radio Actual Sales VS Predicted Sales\n",
    "plt.subplot(1,3,2)\n",
    "plt.scatter(x_test['radio'],y_test,label='Actual')\n",
    "plt.scatter(x_test['radio'],y_pred,color='red',label='Predicted')\n",
    "plt.xlabel('Radio')\n",
    "plt.legend()\n",
    "\n",
    "\n",
    "# Plotting Newspaper Actual Sales VS Predicted Sales\n",
    "plt.subplot(1,3,3)\n",
    "plt.scatter(x_test['newspaper'],y_test,label='Actual')\n",
    "plt.scatter(x_test['newspaper'],y_pred,color='red',label='Predicted')\n",
    "plt.xlabel('Newspaper')\n",
    "plt.legend()\n",
    "\n",
    "\n",
    "plt.tight_layout()\n",
    "plt.savefig('scatter_plot.png')\n",
    "plt.show()"
   ]
  },
  {
   "cell_type": "markdown",
   "id": "8e8dead8-2fd5-4a3e-8333-9bbe45ea849d",
   "metadata": {},
   "source": [
    "###### As we can see, our model is good at predicting the actual sales prices, with the predicted values closely matching the actual ones. The scatter plot illustrates that the predicted and actual sales data are very similar, demonstrating the model's ability to capture trends and patterns in the data. Considering this is a beginner project, it’s a significant achievement to develop a model that performs well in predicting sales based on TV, radio, and newspaper advertising data. The results validate the model's accuracy and the effectiveness of the chosen approach, providing a solid foundation for future improvements."
   ]
  }
 ],
 "metadata": {
  "kernelspec": {
   "display_name": "Python 3 (ipykernel)",
   "language": "python",
   "name": "python3"
  },
  "language_info": {
   "codemirror_mode": {
    "name": "ipython",
    "version": 3
   },
   "file_extension": ".py",
   "mimetype": "text/x-python",
   "name": "python",
   "nbconvert_exporter": "python",
   "pygments_lexer": "ipython3",
   "version": "3.11.5"
  },
  "widgets": {
   "application/vnd.jupyter.widget-state+json": {
    "state": {},
    "version_major": 2,
    "version_minor": 0
   }
  }
 },
 "nbformat": 4,
 "nbformat_minor": 5
}
